{
  "cells": [
    {
      "cell_type": "code",
      "execution_count": 1,
      "metadata": {
        "id": "Kd1NIQuAmCID"
      },
      "outputs": [],
      "source": [
        "import os\n",
        "import matplotlib.pyplot as plt\n",
        "import cv2\n",
        "import numpy as np\n",
        "import pandas as pd\n",
        "import json\n",
        "import glob\n",
        "\n",
        "from numpy.core.defchararray import array\n",
        "from matplotlib.collections import PatchCollection\n",
        "from matplotlib.patches import Rectangle\n",
        "from sklearn.model_selection import train_test_split\n",
        "from keras.models import Model\n",
        "from keras.layers import Input, Conv2D, MaxPooling2D, UpSampling2D, concatenate, Conv2DTranspose, BatchNormalization, Dropout, Lambda , Dense ,Flatten\n",
        "from tensorflow.keras.utils import to_categorical\n",
        "from sklearn.utils import class_weight"
      ]
    },
    {
      "cell_type": "code",
      "execution_count": 2,
      "metadata": {
        "colab": {
          "base_uri": "https://localhost:8080/"
        },
        "id": "YALCVlY0nnoc",
        "outputId": "be588729-c0e5-49d4-bb1a-f7d9cbc6229a"
      },
      "outputs": [
        {
          "name": "stdout",
          "output_type": "stream",
          "text": [
            "Drive already mounted at /content/gdrive; to attempt to forcibly remount, call drive.mount(\"/content/gdrive\", force_remount=True).\n",
            "ln: failed to create symbolic link '/mydrive/My Drive': File exists\n"
          ]
        }
      ],
      "source": [
        "from google.colab import drive\n",
        "drive.mount('/content/gdrive')\n",
        "!ln -s /content/gdrive/My\\ Drive/ /mydrive  #This is to make a short form for the mydrive location "
      ]
    },
    {
      "cell_type": "code",
      "execution_count": 3,
      "metadata": {
        "colab": {
          "base_uri": "https://localhost:8080/"
        },
        "id": "xXLLYcAwnuCM",
        "outputId": "061cf04e-77c1-4aff-eb2b-edd5a73022da"
      },
      "outputs": [
        {
          "name": "stdout",
          "output_type": "stream",
          "text": [
            "mkdir: cannot create directory ‘VBL_Images’: File exists\n",
            "Archive:  /mydrive/VBL_UNET/VBL_Images.zip\n",
            "replace VBL_Images/VBL_Images/mexico-earthquake_00000001_post_disaster.png? [y]es, [n]o, [A]ll, [N]one, [r]ename: A\n",
            "  inflating: VBL_Images/VBL_Images/mexico-earthquake_00000001_post_disaster.png  \n",
            "  inflating: VBL_Images/VBL_Images/mexico-earthquake_00000002_post_disaster.png  \n",
            "  inflating: VBL_Images/VBL_Images/mexico-earthquake_00000003_post_disaster.png  \n",
            "  inflating: VBL_Images/VBL_Images/mexico-earthquake_00000004_post_disaster.png  \n",
            "  inflating: VBL_Images/VBL_Images/mexico-earthquake_00000007_post_disaster.png  \n",
            "  inflating: VBL_Images/VBL_Images/mexico-earthquake_00000008_post_disaster.png  \n",
            "  inflating: VBL_Images/VBL_Images/mexico-earthquake_00000009_post_disaster.png  \n",
            "  inflating: VBL_Images/VBL_Images/mexico-earthquake_00000011_post_disaster.png  \n",
            "  inflating: VBL_Images/VBL_Images/mexico-earthquake_00000013_post_disaster.png  \n",
            "  inflating: VBL_Images/VBL_Images/mexico-earthquake_00000015_post_disaster.png  \n",
            "  inflating: VBL_Images/VBL_Images/mexico-earthquake_00000017_post_disaster.png  \n",
            "  inflating: VBL_Images/VBL_Images/mexico-earthquake_00000018_post_disaster.png  \n",
            "  inflating: VBL_Images/VBL_Images/mexico-earthquake_00000019_post_disaster.png  \n",
            "  inflating: VBL_Images/VBL_Images/mexico-earthquake_00000020_post_disaster.png  \n",
            "  inflating: VBL_Images/VBL_Images/mexico-earthquake_00000021_post_disaster.png  \n",
            "  inflating: VBL_Images/VBL_Images/mexico-earthquake_00000023_post_disaster.png  \n",
            "  inflating: VBL_Images/VBL_Images/mexico-earthquake_00000024_post_disaster.png  \n",
            "  inflating: VBL_Images/VBL_Images/mexico-earthquake_00000027_post_disaster.png  \n",
            "  inflating: VBL_Images/VBL_Images/mexico-earthquake_00000029_post_disaster.png  \n",
            "  inflating: VBL_Images/VBL_Images/mexico-earthquake_00000030_post_disaster.png  \n",
            "  inflating: VBL_Images/VBL_Images/mexico-earthquake_00000031_post_disaster.png  \n",
            "  inflating: VBL_Images/VBL_Images/mexico-earthquake_00000033_post_disaster.png  \n",
            "  inflating: VBL_Images/VBL_Images/mexico-earthquake_00000034_post_disaster.png  \n",
            "  inflating: VBL_Images/VBL_Images/mexico-earthquake_00000035_post_disaster.png  \n",
            "  inflating: VBL_Images/VBL_Images/mexico-earthquake_00000037_post_disaster.png  \n",
            "  inflating: VBL_Images/VBL_Images/mexico-earthquake_00000039_post_disaster.png  \n",
            "  inflating: VBL_Images/VBL_Images/mexico-earthquake_00000040_post_disaster.png  \n",
            "  inflating: VBL_Images/VBL_Images/mexico-earthquake_00000041_post_disaster.png  \n",
            "  inflating: VBL_Images/VBL_Images/mexico-earthquake_00000042_post_disaster.png  \n",
            "  inflating: VBL_Images/VBL_Images/mexico-earthquake_00000043_post_disaster.png  \n",
            "  inflating: VBL_Images/VBL_Images/mexico-earthquake_00000044_post_disaster.png  \n",
            "  inflating: VBL_Images/VBL_Images/mexico-earthquake_00000046_post_disaster.png  \n",
            "  inflating: VBL_Images/VBL_Images/mexico-earthquake_00000047_post_disaster.png  \n",
            "  inflating: VBL_Images/VBL_Images/mexico-earthquake_00000048_post_disaster.png  \n",
            "  inflating: VBL_Images/VBL_Images/mexico-earthquake_00000049_post_disaster.png  \n",
            "  inflating: VBL_Images/VBL_Images/mexico-earthquake_00000052_post_disaster.png  \n",
            "  inflating: VBL_Images/VBL_Images/mexico-earthquake_00000053_post_disaster.png  \n",
            "  inflating: VBL_Images/VBL_Images/mexico-earthquake_00000055_post_disaster.png  \n",
            "  inflating: VBL_Images/VBL_Images/mexico-earthquake_00000057_post_disaster.png  \n",
            "  inflating: VBL_Images/VBL_Images/mexico-earthquake_00000059_post_disaster.png  \n",
            "  inflating: VBL_Images/VBL_Images/mexico-earthquake_00000064_post_disaster.png  \n",
            "  inflating: VBL_Images/VBL_Images/mexico-earthquake_00000066_post_disaster.png  \n",
            "  inflating: VBL_Images/VBL_Images/mexico-earthquake_00000067_post_disaster.png  \n",
            "  inflating: VBL_Images/VBL_Images/mexico-earthquake_00000070_post_disaster.png  \n",
            "  inflating: VBL_Images/VBL_Images/mexico-earthquake_00000072_post_disaster.png  \n",
            "  inflating: VBL_Images/VBL_Images/mexico-earthquake_00000074_post_disaster.png  \n",
            "  inflating: VBL_Images/VBL_Images/mexico-earthquake_00000075_post_disaster.png  \n",
            "  inflating: VBL_Images/VBL_Images/mexico-earthquake_00000078_post_disaster.png  \n",
            "  inflating: VBL_Images/VBL_Images/mexico-earthquake_00000079_post_disaster.png  \n",
            "  inflating: VBL_Images/VBL_Images/mexico-earthquake_00000083_post_disaster.png  \n",
            "  inflating: VBL_Images/VBL_Images/mexico-earthquake_00000084_post_disaster.png  \n",
            "  inflating: VBL_Images/VBL_Images/mexico-earthquake_00000085_post_disaster.png  \n",
            "  inflating: VBL_Images/VBL_Images/mexico-earthquake_00000086_post_disaster.png  \n",
            "  inflating: VBL_Images/VBL_Images/mexico-earthquake_00000087_post_disaster.png  \n",
            "  inflating: VBL_Images/VBL_Images/mexico-earthquake_00000088_post_disaster.png  \n",
            "  inflating: VBL_Images/VBL_Images/mexico-earthquake_00000089_post_disaster.png  \n",
            "  inflating: VBL_Images/VBL_Images/mexico-earthquake_00000092_post_disaster.png  \n",
            "  inflating: VBL_Images/VBL_Images/mexico-earthquake_00000093_post_disaster.png  \n",
            "  inflating: VBL_Images/VBL_Images/mexico-earthquake_00000096_post_disaster.png  \n",
            "  inflating: VBL_Images/VBL_Images/mexico-earthquake_00000098_post_disaster.png  \n",
            "  inflating: VBL_Images/VBL_Images/mexico-earthquake_00000100_post_disaster.png  \n",
            "  inflating: VBL_Images/VBL_Images/mexico-earthquake_00000101_post_disaster.png  \n",
            "  inflating: VBL_Images/VBL_Images/mexico-earthquake_00000102_post_disaster.png  \n",
            "  inflating: VBL_Images/VBL_Images/mexico-earthquake_00000103_post_disaster.png  \n",
            "  inflating: VBL_Images/VBL_Images/mexico-earthquake_00000104_post_disaster.png  \n",
            "  inflating: VBL_Images/VBL_Images/mexico-earthquake_00000105_post_disaster.png  \n",
            "  inflating: VBL_Images/VBL_Images/mexico-earthquake_00000107_post_disaster.png  \n",
            "  inflating: VBL_Images/VBL_Images/mexico-earthquake_00000108_post_disaster.png  \n",
            "  inflating: VBL_Images/VBL_Images/mexico-earthquake_00000110_post_disaster.png  \n",
            "  inflating: VBL_Images/VBL_Images/mexico-earthquake_00000111_post_disaster.png  \n",
            "  inflating: VBL_Images/VBL_Images/mexico-earthquake_00000112_post_disaster.png  \n",
            "  inflating: VBL_Images/VBL_Images/mexico-earthquake_00000114_post_disaster.png  \n",
            "  inflating: VBL_Images/VBL_Images/mexico-earthquake_00000115_post_disaster.png  \n",
            "  inflating: VBL_Images/VBL_Images/mexico-earthquake_00000118_post_disaster.png  \n",
            "  inflating: VBL_Images/VBL_Images/mexico-earthquake_00000119_post_disaster.png  \n",
            "  inflating: VBL_Images/VBL_Images/mexico-earthquake_00000120_post_disaster.png  \n",
            "  inflating: VBL_Images/VBL_Images/mexico-earthquake_00000122_post_disaster.png  \n",
            "  inflating: VBL_Images/VBL_Images/mexico-earthquake_00000125_post_disaster.png  \n",
            "  inflating: VBL_Images/VBL_Images/mexico-earthquake_00000126_post_disaster.png  \n",
            "  inflating: VBL_Images/VBL_Images/mexico-earthquake_00000127_post_disaster.png  \n",
            "  inflating: VBL_Images/VBL_Images/mexico-earthquake_00000128_post_disaster.png  \n",
            "  inflating: VBL_Images/VBL_Images/mexico-earthquake_00000129_post_disaster.png  \n",
            "  inflating: VBL_Images/VBL_Images/mexico-earthquake_00000132_post_disaster.png  \n",
            "  inflating: VBL_Images/VBL_Images/mexico-earthquake_00000136_post_disaster.png  \n",
            "  inflating: VBL_Images/VBL_Images/mexico-earthquake_00000138_post_disaster.png  \n",
            "  inflating: VBL_Images/VBL_Images/mexico-earthquake_00000140_post_disaster.png  \n",
            "  inflating: VBL_Images/VBL_Images/mexico-earthquake_00000141_post_disaster.png  \n",
            "  inflating: VBL_Images/VBL_Images/mexico-earthquake_00000142_post_disaster.png  \n",
            "  inflating: VBL_Images/VBL_Images/mexico-earthquake_00000143_post_disaster.png  \n",
            "  inflating: VBL_Images/VBL_Images/mexico-earthquake_00000144_post_disaster.png  \n",
            "  inflating: VBL_Images/VBL_Images/mexico-earthquake_00000146_post_disaster.png  \n",
            "  inflating: VBL_Images/VBL_Images/mexico-earthquake_00000148_post_disaster.png  \n",
            "  inflating: VBL_Images/VBL_Images/mexico-earthquake_00000150_post_disaster.png  \n",
            "  inflating: VBL_Images/VBL_Images/mexico-earthquake_00000151_post_disaster.png  \n",
            "  inflating: VBL_Images/VBL_Images/mexico-earthquake_00000152_post_disaster.png  \n",
            "  inflating: VBL_Images/VBL_Images/mexico-earthquake_00000153_post_disaster.png  \n",
            "  inflating: VBL_Images/VBL_Images/mexico-earthquake_00000154_post_disaster.png  \n",
            "  inflating: VBL_Images/VBL_Images/mexico-earthquake_00000155_post_disaster.png  \n",
            "  inflating: VBL_Images/VBL_Images/mexico-earthquake_00000158_post_disaster.png  \n",
            "  inflating: VBL_Images/VBL_Images/mexico-earthquake_00000159_post_disaster.png  \n",
            "  inflating: VBL_Images/VBL_Images/mexico-earthquake_00000160_post_disaster.png  \n",
            "  inflating: VBL_Images/VBL_Images/mexico-earthquake_00000164_post_disaster.png  \n",
            "  inflating: VBL_Images/VBL_Images/mexico-earthquake_00000166_post_disaster.png  \n",
            "  inflating: VBL_Images/VBL_Images/mexico-earthquake_00000168_post_disaster.png  \n",
            "  inflating: VBL_Images/VBL_Images/mexico-earthquake_00000171_post_disaster.png  \n",
            "  inflating: VBL_Images/VBL_Images/mexico-earthquake_00000172_post_disaster.png  \n",
            "  inflating: VBL_Images/VBL_Images/mexico-earthquake_00000173_post_disaster.png  \n",
            "  inflating: VBL_Images/VBL_Images/mexico-earthquake_00000176_post_disaster.png  \n",
            "  inflating: VBL_Images/VBL_Images/mexico-earthquake_00000177_post_disaster.png  \n",
            "  inflating: VBL_Images/VBL_Images/mexico-earthquake_00000179_post_disaster.png  \n",
            "  inflating: VBL_Images/VBL_Images/mexico-earthquake_00000181_post_disaster.png  \n",
            "  inflating: VBL_Images/VBL_Images/mexico-earthquake_00000182_post_disaster.png  \n",
            "  inflating: VBL_Images/VBL_Images/mexico-earthquake_00000184_post_disaster.png  \n",
            "  inflating: VBL_Images/VBL_Images/mexico-earthquake_00000185_post_disaster.png  \n",
            "  inflating: VBL_Images/VBL_Images/mexico-earthquake_00000186_post_disaster.png  \n",
            "  inflating: VBL_Images/VBL_Images/mexico-earthquake_00000191_post_disaster.png  \n",
            "  inflating: VBL_Images/VBL_Images/mexico-earthquake_00000192_post_disaster.png  \n"
          ]
        }
      ],
      "source": [
        "!mkdir VBL_Images\n",
        "!unzip /mydrive/VBL_UNET/VBL_Images.zip -d VBL_Images"
      ]
    },
    {
      "cell_type": "code",
      "execution_count": 4,
      "metadata": {
        "id": "Ya1QlQUJeHWO"
      },
      "outputs": [],
      "source": [
        "IMG_SIZE = 512\n",
        "n_classes= 6"
      ]
    },
    {
      "cell_type": "code",
      "execution_count": 5,
      "metadata": {
        "colab": {
          "base_uri": "https://localhost:8080/"
        },
        "id": "vJH0Ga8UmYK9",
        "outputId": "76849ab7-e9b2-4b55-fbe7-36eeb6336813"
      },
      "outputs": [
        {
          "name": "stdout",
          "output_type": "stream",
          "text": [
            "(117, 512, 512, 3)\n",
            "(117, 512, 512, 1)\n"
          ]
        }
      ],
      "source": [
        "train_images = []\n",
        "\n",
        "for directory_path in glob.glob(\"/content/VBL_Images/VBL_Images\"):\n",
        "    for img_path in glob.glob(os.path.join(directory_path, \"*.png\")):\n",
        "        img = cv2.imread(img_path)       \n",
        "        img = cv2.resize(img, (IMG_SIZE, IMG_SIZE))\n",
        "        train_images.append(img)\n",
        "\n",
        "train_images = np.array(train_images)\n",
        "\n",
        "train_masks = [] \n",
        "\n",
        "with open(f\"/mydrive/VBL_UNET/Train_Masks_{IMG_SIZE}.json\", 'r') as openfile:\n",
        "    json_object = json.load(openfile)\n",
        "\n",
        "json_object = json_object.replace(\"\\'\", \"\\\"\")\n",
        "masks = json.loads(json_object)\n",
        "\n",
        "for img_name in os.listdir(\"/content/VBL_Images/VBL_Images\"):\n",
        "    list_vals = masks[img_name]\n",
        "    masked = np.asarray(list_vals)\n",
        "\n",
        "    train_masks.append(masked)\n",
        "\n",
        "train_masks = np.array(train_masks)\n",
        "\n",
        "train_images = train_images.reshape(-1,IMG_SIZE,IMG_SIZE,3)\n",
        "train_masks = np.expand_dims(train_masks, axis=3)\n",
        "\n",
        "\n",
        "\n",
        "train_images = train_images/255.0\n",
        "\n",
        "print(train_images.shape)\n",
        "print(train_masks.shape)"
      ]
    },
    {
      "cell_type": "code",
      "execution_count": 6,
      "metadata": {
        "id": "YPP4IRYJmnhC"
      },
      "outputs": [],
      "source": [
        "X_train , X_test, y_train, y_test = train_test_split(train_images, train_masks, test_size = 0.10, random_state = 1)"
      ]
    },
    {
      "cell_type": "code",
      "execution_count": 7,
      "metadata": {
        "id": "hWZ39ulpmYEH"
      },
      "outputs": [],
      "source": [
        "train_masks_cat = to_categorical(y_train, num_classes=n_classes)\n",
        "y_train_cat = train_masks_cat.reshape((y_train.shape[0], y_train.shape[1], y_train.shape[2], n_classes))"
      ]
    },
    {
      "cell_type": "code",
      "execution_count": 8,
      "metadata": {
        "id": "Ayf2NmcPmykA"
      },
      "outputs": [],
      "source": [
        "test_masks_cat = to_categorical(y_test, num_classes=n_classes)\n",
        "y_test_cat = test_masks_cat.reshape((y_test.shape[0], y_test.shape[1], y_test.shape[2], n_classes))"
      ]
    },
    {
      "cell_type": "code",
      "execution_count": 9,
      "metadata": {
        "id": "AJO0-9Eqm69N"
      },
      "outputs": [],
      "source": [
        "IMG_HEIGHT = IMG_SIZE\n",
        "IMG_WIDTH  = IMG_SIZE\n",
        "IMG_CHANNELS = 3"
      ]
    },
    {
      "cell_type": "code",
      "execution_count": 10,
      "metadata": {
        "id": "I8Kzy95jnCL3"
      },
      "outputs": [],
      "source": [
        "def multi_unet_model(n_classes=6, IMG_HEIGHT=IMG_SIZE, IMG_WIDTH=IMG_SIZE, IMG_CHANNELS=3):\n",
        "    inputs = Input((IMG_HEIGHT, IMG_WIDTH, IMG_CHANNELS))\n",
        "    \n",
        "    i = inputs\n",
        "\n",
        "    conv1 = Conv2D(16, (3, 3), activation='relu', kernel_initializer='he_normal', padding='same')(i)\n",
        "    conv1 = Dropout(0.1)(conv1)\n",
        "    conv1 = Conv2D(16, (3, 3), activation='relu', kernel_initializer='he_normal', padding='same')(conv1)\n",
        "    pool1 = MaxPooling2D((2, 2))(conv1)\n",
        "\n",
        "    conv2 = Conv2D(32, (3, 3), activation='relu', kernel_initializer='he_normal', padding='same')(pool1)\n",
        "    conv2 = Dropout(0.1)(conv2)\n",
        "    conv2 = Conv2D(32, (3, 3), activation='relu', kernel_initializer='he_normal', padding='same')(conv2)\n",
        "    pool2 = MaxPooling2D((2, 2))(conv2)\n",
        "     \n",
        "    conv3 = Conv2D(64, (3, 3), activation='relu', kernel_initializer='he_normal', padding='same')(pool2)\n",
        "    conv3 = Dropout(0.2)(conv3)\n",
        "    conv3 = Conv2D(64, (3, 3), activation='relu', kernel_initializer='he_normal', padding='same')(conv3)\n",
        "    pool3 = MaxPooling2D((2, 2))(conv3)\n",
        "     \n",
        "    conv4 = Conv2D(128, (3, 3), activation='relu', kernel_initializer='he_normal', padding='same')(pool3)\n",
        "    conv4 = Dropout(0.2)(conv4)\n",
        "    conv4 = Conv2D(128, (3, 3), activation='relu', kernel_initializer='he_normal', padding='same')(conv4)\n",
        "    pool4 = MaxPooling2D(pool_size=(2, 2))(conv4)\n",
        "     \n",
        "    conv5 = Conv2D(256, (3, 3), activation='relu', kernel_initializer='he_normal', padding='same')(pool4)\n",
        "    conv5 = Dropout(0.3)(conv5)\n",
        "    conv5 = Conv2D(256, (3, 3), activation='relu', kernel_initializer='he_normal', padding='same')(conv5)\n",
        "    pool5 = MaxPooling2D(pool_size=(2, 2))(conv5)\n",
        "\n",
        "    conv6 = Conv2D(512, (3, 3), activation='relu', kernel_initializer='he_normal', padding='same')(pool5)\n",
        "    conv6 = Dropout(0.3)(conv6)\n",
        "    conv6 = Conv2D(512, (3, 3), activation='relu', kernel_initializer='he_normal', padding='same')(conv6)\n",
        "    \n",
        "    up7 = Conv2DTranspose(256, (2, 2), strides=(2, 2), padding='same')(conv6)\n",
        "    up7 = concatenate([up7, conv5])\n",
        "    conv7 = Conv2D(256, (3, 3), activation='relu', kernel_initializer='he_normal', padding='same')(up7)\n",
        "    conv7 = Dropout(0.2)(conv7)\n",
        "    conv7 = Conv2D(256, (3, 3), activation='relu', kernel_initializer='he_normal', padding='same')(conv7)\n",
        "     \n",
        "    up8 = Conv2DTranspose(128, (2, 2), strides=(2, 2), padding='same')(conv7)\n",
        "    up8 = concatenate([up8, conv4])\n",
        "    conv8 = Conv2D(128, (3, 3), activation='relu', kernel_initializer='he_normal', padding='same')(up8)\n",
        "    conv8 = Dropout(0.2)(conv8)\n",
        "    conv8 = Conv2D(128, (3, 3), activation='relu', kernel_initializer='he_normal', padding='same')(conv8)\n",
        "     \n",
        "    up9 = Conv2DTranspose(64, (2, 2), strides=(2, 2), padding='same')(conv8)\n",
        "    up9 = concatenate([up9, conv3])\n",
        "    conv9 = Conv2D(64, (3, 3), activation='relu', kernel_initializer='he_normal', padding='same')(up9)\n",
        "    conv9 = Dropout(0.1)(conv9)\n",
        "    conv9 = Conv2D(64, (3, 3), activation='relu', kernel_initializer='he_normal', padding='same')(conv9)\n",
        "     \n",
        "    up10 = Conv2DTranspose(32, (2, 2), strides=(2, 2), padding='same')(conv9)\n",
        "    up10 = concatenate([up10, conv2], axis=3)\n",
        "    conv10 = Conv2D(32, (3, 3), activation='relu', kernel_initializer='he_normal', padding='same')(up10)\n",
        "    conv10 = Dropout(0.1)(conv10)\n",
        "    conv10 = Conv2D(32, (3, 3), activation='relu', kernel_initializer='he_normal', padding='same')(conv10)\n",
        "     \n",
        "    up11 = Conv2DTranspose(16, (2, 2), strides=(2, 2), padding='same')(conv10)\n",
        "    up11 = concatenate([up11, conv1], axis=3)\n",
        "    conv11 = Conv2D(16, (3, 3), activation='relu', kernel_initializer='he_normal', padding='same')(up11)\n",
        "    conv11 = Dropout(0.1)(conv11)\n",
        "    conv11 = Conv2D(16, (3, 3), activation='relu', kernel_initializer='he_normal', padding='same')(conv11)\n",
        "\n",
        "    outputs = Conv2D(n_classes, (1, 1), activation='softmax')(conv11)\n",
        "\n",
        "    \n",
        "    model = Model(inputs=[inputs], outputs=[outputs])\n",
        "    \n",
        "    return model"
      ]
    },
    {
      "cell_type": "code",
      "execution_count": 11,
      "metadata": {
        "colab": {
          "base_uri": "https://localhost:8080/"
        },
        "id": "XcELTm-VnK7S",
        "outputId": "feb56886-23ff-46e8-a5da-9fa5fa5b1906"
      },
      "outputs": [
        {
          "name": "stdout",
          "output_type": "stream",
          "text": [
            "Model: \"model\"\n",
            "__________________________________________________________________________________________________\n",
            " Layer (type)                   Output Shape         Param #     Connected to                     \n",
            "==================================================================================================\n",
            " input_1 (InputLayer)           [(None, 512, 512, 3  0           []                               \n",
            "                                )]                                                                \n",
            "                                                                                                  \n",
            " conv2d (Conv2D)                (None, 512, 512, 16  448         ['input_1[0][0]']                \n",
            "                                )                                                                 \n",
            "                                                                                                  \n",
            " dropout (Dropout)              (None, 512, 512, 16  0           ['conv2d[0][0]']                 \n",
            "                                )                                                                 \n",
            "                                                                                                  \n",
            " conv2d_1 (Conv2D)              (None, 512, 512, 16  2320        ['dropout[0][0]']                \n",
            "                                )                                                                 \n",
            "                                                                                                  \n",
            " max_pooling2d (MaxPooling2D)   (None, 256, 256, 16  0           ['conv2d_1[0][0]']               \n",
            "                                )                                                                 \n",
            "                                                                                                  \n",
            " conv2d_2 (Conv2D)              (None, 256, 256, 32  4640        ['max_pooling2d[0][0]']          \n",
            "                                )                                                                 \n",
            "                                                                                                  \n",
            " dropout_1 (Dropout)            (None, 256, 256, 32  0           ['conv2d_2[0][0]']               \n",
            "                                )                                                                 \n",
            "                                                                                                  \n",
            " conv2d_3 (Conv2D)              (None, 256, 256, 32  9248        ['dropout_1[0][0]']              \n",
            "                                )                                                                 \n",
            "                                                                                                  \n",
            " max_pooling2d_1 (MaxPooling2D)  (None, 128, 128, 32  0          ['conv2d_3[0][0]']               \n",
            "                                )                                                                 \n",
            "                                                                                                  \n",
            " conv2d_4 (Conv2D)              (None, 128, 128, 64  18496       ['max_pooling2d_1[0][0]']        \n",
            "                                )                                                                 \n",
            "                                                                                                  \n",
            " dropout_2 (Dropout)            (None, 128, 128, 64  0           ['conv2d_4[0][0]']               \n",
            "                                )                                                                 \n",
            "                                                                                                  \n",
            " conv2d_5 (Conv2D)              (None, 128, 128, 64  36928       ['dropout_2[0][0]']              \n",
            "                                )                                                                 \n",
            "                                                                                                  \n",
            " max_pooling2d_2 (MaxPooling2D)  (None, 64, 64, 64)  0           ['conv2d_5[0][0]']               \n",
            "                                                                                                  \n",
            " conv2d_6 (Conv2D)              (None, 64, 64, 128)  73856       ['max_pooling2d_2[0][0]']        \n",
            "                                                                                                  \n",
            " dropout_3 (Dropout)            (None, 64, 64, 128)  0           ['conv2d_6[0][0]']               \n",
            "                                                                                                  \n",
            " conv2d_7 (Conv2D)              (None, 64, 64, 128)  147584      ['dropout_3[0][0]']              \n",
            "                                                                                                  \n",
            " max_pooling2d_3 (MaxPooling2D)  (None, 32, 32, 128)  0          ['conv2d_7[0][0]']               \n",
            "                                                                                                  \n",
            " conv2d_8 (Conv2D)              (None, 32, 32, 256)  295168      ['max_pooling2d_3[0][0]']        \n",
            "                                                                                                  \n",
            " dropout_4 (Dropout)            (None, 32, 32, 256)  0           ['conv2d_8[0][0]']               \n",
            "                                                                                                  \n",
            " conv2d_9 (Conv2D)              (None, 32, 32, 256)  590080      ['dropout_4[0][0]']              \n",
            "                                                                                                  \n",
            " max_pooling2d_4 (MaxPooling2D)  (None, 16, 16, 256)  0          ['conv2d_9[0][0]']               \n",
            "                                                                                                  \n",
            " conv2d_10 (Conv2D)             (None, 16, 16, 512)  1180160     ['max_pooling2d_4[0][0]']        \n",
            "                                                                                                  \n",
            " dropout_5 (Dropout)            (None, 16, 16, 512)  0           ['conv2d_10[0][0]']              \n",
            "                                                                                                  \n",
            " conv2d_11 (Conv2D)             (None, 16, 16, 512)  2359808     ['dropout_5[0][0]']              \n",
            "                                                                                                  \n",
            " conv2d_transpose (Conv2DTransp  (None, 32, 32, 256)  524544     ['conv2d_11[0][0]']              \n",
            " ose)                                                                                             \n",
            "                                                                                                  \n",
            " concatenate (Concatenate)      (None, 32, 32, 512)  0           ['conv2d_transpose[0][0]',       \n",
            "                                                                  'conv2d_9[0][0]']               \n",
            "                                                                                                  \n",
            " conv2d_12 (Conv2D)             (None, 32, 32, 256)  1179904     ['concatenate[0][0]']            \n",
            "                                                                                                  \n",
            " dropout_6 (Dropout)            (None, 32, 32, 256)  0           ['conv2d_12[0][0]']              \n",
            "                                                                                                  \n",
            " conv2d_13 (Conv2D)             (None, 32, 32, 256)  590080      ['dropout_6[0][0]']              \n",
            "                                                                                                  \n",
            " conv2d_transpose_1 (Conv2DTran  (None, 64, 64, 128)  131200     ['conv2d_13[0][0]']              \n",
            " spose)                                                                                           \n",
            "                                                                                                  \n",
            " concatenate_1 (Concatenate)    (None, 64, 64, 256)  0           ['conv2d_transpose_1[0][0]',     \n",
            "                                                                  'conv2d_7[0][0]']               \n",
            "                                                                                                  \n",
            " conv2d_14 (Conv2D)             (None, 64, 64, 128)  295040      ['concatenate_1[0][0]']          \n",
            "                                                                                                  \n",
            " dropout_7 (Dropout)            (None, 64, 64, 128)  0           ['conv2d_14[0][0]']              \n",
            "                                                                                                  \n",
            " conv2d_15 (Conv2D)             (None, 64, 64, 128)  147584      ['dropout_7[0][0]']              \n",
            "                                                                                                  \n",
            " conv2d_transpose_2 (Conv2DTran  (None, 128, 128, 64  32832      ['conv2d_15[0][0]']              \n",
            " spose)                         )                                                                 \n",
            "                                                                                                  \n",
            " concatenate_2 (Concatenate)    (None, 128, 128, 12  0           ['conv2d_transpose_2[0][0]',     \n",
            "                                8)                                'conv2d_5[0][0]']               \n",
            "                                                                                                  \n",
            " conv2d_16 (Conv2D)             (None, 128, 128, 64  73792       ['concatenate_2[0][0]']          \n",
            "                                )                                                                 \n",
            "                                                                                                  \n",
            " dropout_8 (Dropout)            (None, 128, 128, 64  0           ['conv2d_16[0][0]']              \n",
            "                                )                                                                 \n",
            "                                                                                                  \n",
            " conv2d_17 (Conv2D)             (None, 128, 128, 64  36928       ['dropout_8[0][0]']              \n",
            "                                )                                                                 \n",
            "                                                                                                  \n",
            " conv2d_transpose_3 (Conv2DTran  (None, 256, 256, 32  8224       ['conv2d_17[0][0]']              \n",
            " spose)                         )                                                                 \n",
            "                                                                                                  \n",
            " concatenate_3 (Concatenate)    (None, 256, 256, 64  0           ['conv2d_transpose_3[0][0]',     \n",
            "                                )                                 'conv2d_3[0][0]']               \n",
            "                                                                                                  \n",
            " conv2d_18 (Conv2D)             (None, 256, 256, 32  18464       ['concatenate_3[0][0]']          \n",
            "                                )                                                                 \n",
            "                                                                                                  \n",
            " dropout_9 (Dropout)            (None, 256, 256, 32  0           ['conv2d_18[0][0]']              \n",
            "                                )                                                                 \n",
            "                                                                                                  \n",
            " conv2d_19 (Conv2D)             (None, 256, 256, 32  9248        ['dropout_9[0][0]']              \n",
            "                                )                                                                 \n",
            "                                                                                                  \n",
            " conv2d_transpose_4 (Conv2DTran  (None, 512, 512, 16  2064       ['conv2d_19[0][0]']              \n",
            " spose)                         )                                                                 \n",
            "                                                                                                  \n",
            " concatenate_4 (Concatenate)    (None, 512, 512, 32  0           ['conv2d_transpose_4[0][0]',     \n",
            "                                )                                 'conv2d_1[0][0]']               \n",
            "                                                                                                  \n",
            " conv2d_20 (Conv2D)             (None, 512, 512, 16  4624        ['concatenate_4[0][0]']          \n",
            "                                )                                                                 \n",
            "                                                                                                  \n",
            " dropout_10 (Dropout)           (None, 512, 512, 16  0           ['conv2d_20[0][0]']              \n",
            "                                )                                                                 \n",
            "                                                                                                  \n",
            " conv2d_21 (Conv2D)             (None, 512, 512, 16  2320        ['dropout_10[0][0]']             \n",
            "                                )                                                                 \n",
            "                                                                                                  \n",
            " conv2d_22 (Conv2D)             (None, 512, 512, 6)  102         ['conv2d_21[0][0]']              \n",
            "                                                                                                  \n",
            "==================================================================================================\n",
            "Total params: 7,775,686\n",
            "Trainable params: 7,775,686\n",
            "Non-trainable params: 0\n",
            "__________________________________________________________________________________________________\n"
          ]
        }
      ],
      "source": [
        "model = multi_unet_model()\n",
        "\n",
        "model.compile(optimizer='adam', loss='categorical_crossentropy', metrics=['accuracy'])\n",
        "model.summary()"
      ]
    },
    {
      "cell_type": "code",
      "execution_count": 12,
      "metadata": {
        "id": "huL6nqxWIbsG"
      },
      "outputs": [],
      "source": [
        "y_train_cat = y_train_cat.astype(int)\n",
        "y_test_cat = y_test_cat.astype(int)"
      ]
    },
    {
      "cell_type": "code",
      "execution_count": 13,
      "metadata": {
        "colab": {
          "base_uri": "https://localhost:8080/"
        },
        "id": "yEutaLFXnNf2",
        "outputId": "a5045bef-779d-4383-e525-3b847866b680"
      },
      "outputs": [
        {
          "name": "stdout",
          "output_type": "stream",
          "text": [
            "Epoch 1/20\n",
            "53/53 [==============================] - 33s 324ms/step - loss: 0.9533 - accuracy: 0.6501 - val_loss: 0.5771 - val_accuracy: 0.7451\n",
            "Epoch 2/20\n",
            "53/53 [==============================] - 14s 259ms/step - loss: 0.6038 - accuracy: 0.7268 - val_loss: 0.5162 - val_accuracy: 0.7660\n",
            "Epoch 3/20\n",
            "53/53 [==============================] - 14s 260ms/step - loss: 0.4687 - accuracy: 0.7718 - val_loss: 0.4159 - val_accuracy: 0.8090\n",
            "Epoch 4/20\n",
            "53/53 [==============================] - 14s 260ms/step - loss: 0.4309 - accuracy: 0.7998 - val_loss: 0.4017 - val_accuracy: 0.8137\n",
            "Epoch 5/20\n",
            "53/53 [==============================] - 14s 261ms/step - loss: 0.4112 - accuracy: 0.8120 - val_loss: 0.3852 - val_accuracy: 0.8163\n",
            "Epoch 6/20\n",
            "53/53 [==============================] - 14s 260ms/step - loss: 0.4051 - accuracy: 0.8133 - val_loss: 0.3853 - val_accuracy: 0.8166\n",
            "Epoch 7/20\n",
            "53/53 [==============================] - 14s 260ms/step - loss: 0.3943 - accuracy: 0.8186 - val_loss: 0.3791 - val_accuracy: 0.8182\n",
            "Epoch 8/20\n",
            "53/53 [==============================] - 14s 258ms/step - loss: 0.3887 - accuracy: 0.8214 - val_loss: 0.3765 - val_accuracy: 0.8191\n",
            "Epoch 9/20\n",
            "53/53 [==============================] - 14s 260ms/step - loss: 0.3858 - accuracy: 0.8229 - val_loss: 0.3735 - val_accuracy: 0.8205\n",
            "Epoch 10/20\n",
            "53/53 [==============================] - 14s 260ms/step - loss: 0.3824 - accuracy: 0.8247 - val_loss: 0.3728 - val_accuracy: 0.8212\n",
            "Epoch 11/20\n",
            "53/53 [==============================] - 14s 259ms/step - loss: 0.3794 - accuracy: 0.8264 - val_loss: 0.3719 - val_accuracy: 0.8220\n",
            "Epoch 12/20\n",
            "53/53 [==============================] - 14s 260ms/step - loss: 0.3785 - accuracy: 0.8272 - val_loss: 0.3681 - val_accuracy: 0.8223\n",
            "Epoch 13/20\n",
            "53/53 [==============================] - 14s 259ms/step - loss: 0.3784 - accuracy: 0.8273 - val_loss: 0.3714 - val_accuracy: 0.8224\n",
            "Epoch 14/20\n",
            "53/53 [==============================] - 14s 259ms/step - loss: 0.3743 - accuracy: 0.8291 - val_loss: 0.3668 - val_accuracy: 0.8240\n",
            "Epoch 15/20\n",
            "53/53 [==============================] - 14s 258ms/step - loss: 0.3719 - accuracy: 0.8300 - val_loss: 0.3642 - val_accuracy: 0.8250\n",
            "Epoch 16/20\n",
            "53/53 [==============================] - 14s 261ms/step - loss: 0.3703 - accuracy: 0.8310 - val_loss: 0.3653 - val_accuracy: 0.8245\n",
            "Epoch 17/20\n",
            "53/53 [==============================] - 14s 260ms/step - loss: 0.3710 - accuracy: 0.8307 - val_loss: 0.3639 - val_accuracy: 0.8249\n",
            "Epoch 18/20\n",
            "53/53 [==============================] - 14s 260ms/step - loss: 0.3687 - accuracy: 0.8316 - val_loss: 0.3580 - val_accuracy: 0.8275\n",
            "Epoch 19/20\n",
            "53/53 [==============================] - 14s 259ms/step - loss: 0.3695 - accuracy: 0.8309 - val_loss: 0.3579 - val_accuracy: 0.8280\n",
            "Epoch 20/20\n",
            "53/53 [==============================] - 14s 259ms/step - loss: 0.3659 - accuracy: 0.8330 - val_loss: 0.3616 - val_accuracy: 0.8274\n"
          ]
        }
      ],
      "source": [
        "history = model.fit(X_train, y_train_cat, \n",
        "                    batch_size = 2, \n",
        "                    verbose=1, \n",
        "                    epochs=20, \n",
        "                    validation_data=(X_test, y_test_cat), \n",
        "                    shuffle=False)"
      ]
    },
    {
      "cell_type": "code",
      "execution_count": 34,
      "metadata": {
        "id": "UGs4juj6RQ_Y"
      },
      "outputs": [],
      "source": [
        "model.save(\"/mydrive/VBL_UNET/VBL_UNET_Model.hdf5\")"
      ]
    },
    {
      "cell_type": "code",
      "execution_count": 16,
      "metadata": {
        "colab": {
          "base_uri": "https://localhost:8080/"
        },
        "id": "Zd6W5sNfncdi",
        "outputId": "17b61f22-d16d-4bb6-c257-364fd6386789"
      },
      "outputs": [
        {
          "name": "stdout",
          "output_type": "stream",
          "text": [
            "1/1 [==============================] - 7s 7s/step - loss: 0.3616 - accuracy: 0.8274\n",
            "Accuracy is =  82.74161219596863 %\n"
          ]
        }
      ],
      "source": [
        "_, acc = model.evaluate(X_test, y_test_cat)\n",
        "print(\"Accuracy is = \", (acc * 100.0), \"%\")"
      ]
    },
    {
      "cell_type": "code",
      "execution_count": 17,
      "metadata": {
        "id": "ThNtcYi_UnHL"
      },
      "outputs": [],
      "source": [
        "from keras.metrics import MeanIoU\n",
        "import tensorflow as tf"
      ]
    },
    {
      "cell_type": "code",
      "execution_count": 18,
      "metadata": {
        "id": "Vah_ScD3y5XO"
      },
      "outputs": [],
      "source": [
        "pred_test = model.predict(X_test)"
      ]
    },
    {
      "cell_type": "code",
      "execution_count": 20,
      "metadata": {
        "id": "dH_Y1-hAzJVa"
      },
      "outputs": [],
      "source": [
        "pred_test_argmax = np.argmax(pred_test, axis=3)\n",
        "predicted_labels = pred_test_argmax"
      ]
    },
    {
      "cell_type": "code",
      "execution_count": 21,
      "metadata": {
        "id": "uxIha_wwzNXy"
      },
      "outputs": [],
      "source": [
        "true_labels = y_test\n",
        "true_labels = true_labels.reshape(12,IMG_SIZE,IMG_SIZE)"
      ]
    },
    {
      "cell_type": "code",
      "execution_count": 24,
      "metadata": {
        "colab": {
          "base_uri": "https://localhost:8080/"
        },
        "id": "b-iD-E3OzQey",
        "outputId": "9a0b45c0-6112-48c2-dcd9-8ea6f7f3c26b"
      },
      "outputs": [
        {
          "data": {
            "text/plain": [
              "<tf.Variable 'UnreadVariable' shape=(6, 6) dtype=float32, numpy=\n",
              "array([[2.196464e+06, 1.489920e+05, 0.000000e+00, 0.000000e+00,\n",
              "        0.000000e+00, 0.000000e+00],\n",
              "       [3.933860e+05, 4.063620e+05, 0.000000e+00, 0.000000e+00,\n",
              "        0.000000e+00, 0.000000e+00],\n",
              "       [2.640000e+02, 2.600000e+02, 0.000000e+00, 0.000000e+00,\n",
              "        0.000000e+00, 0.000000e+00],\n",
              "       [0.000000e+00, 0.000000e+00, 0.000000e+00, 0.000000e+00,\n",
              "        0.000000e+00, 0.000000e+00],\n",
              "       [0.000000e+00, 0.000000e+00, 0.000000e+00, 0.000000e+00,\n",
              "        0.000000e+00, 0.000000e+00],\n",
              "       [0.000000e+00, 0.000000e+00, 0.000000e+00, 0.000000e+00,\n",
              "        0.000000e+00, 0.000000e+00]], dtype=float32)>"
            ]
          },
          "execution_count": 24,
          "metadata": {},
          "output_type": "execute_result"
        }
      ],
      "source": [
        "n_classes = 6\n",
        "IOU = MeanIoU(num_classes=n_classes)\n",
        "IOU.update_state(true_labels,predicted_labels)  "
      ]
    },
    {
      "cell_type": "code",
      "execution_count": 25,
      "metadata": {
        "colab": {
          "base_uri": "https://localhost:8080/"
        },
        "id": "0oMWV827zTDh",
        "outputId": "86e8b218-6c89-4db1-8d1f-f8deb08b37e7"
      },
      "outputs": [
        {
          "name": "stdout",
          "output_type": "stream",
          "text": [
            "IOU Score for model =  0.41003036\n"
          ]
        }
      ],
      "source": [
        "print('IOU Score for model = ', IOU.result().numpy())"
      ]
    },
    {
      "cell_type": "code",
      "execution_count": 26,
      "metadata": {
        "id": "_SzjPDKPA9V1"
      },
      "outputs": [],
      "source": [
        "predicted_flattened = predicted_labels.reshape(-1,)\n",
        "true_flattened = true_labels.reshape(-1,)"
      ]
    },
    {
      "cell_type": "code",
      "execution_count": 28,
      "metadata": {
        "id": "Gyi5g2nJCkxa"
      },
      "outputs": [],
      "source": [
        "from sklearn.metrics import precision_recall_fscore_support"
      ]
    },
    {
      "cell_type": "code",
      "execution_count": 29,
      "metadata": {
        "colab": {
          "base_uri": "https://localhost:8080/"
        },
        "id": "SJ44qwa3Dd5a",
        "outputId": "3f6af9de-1fbb-4f7a-e253-a31d192ca7ff"
      },
      "outputs": [
        {
          "name": "stderr",
          "output_type": "stream",
          "text": [
            "/usr/local/lib/python3.7/dist-packages/sklearn/metrics/_classification.py:1308: UndefinedMetricWarning: Precision and F-score are ill-defined and being set to 0.0 in labels with no predicted samples. Use `zero_division` parameter to control this behavior.\n",
            "  _warn_prf(average, modifier, msg_start, len(result))\n"
          ]
        }
      ],
      "source": [
        "metrics = precision_recall_fscore_support(true_flattened, predicted_flattened, average='weighted')"
      ]
    },
    {
      "cell_type": "code",
      "execution_count": 30,
      "metadata": {
        "id": "A8pwzajbCpO6"
      },
      "outputs": [],
      "source": [
        "precision = metrics[0]\n",
        "recall = metrics[1]"
      ]
    },
    {
      "cell_type": "code",
      "execution_count": 31,
      "metadata": {
        "colab": {
          "base_uri": "https://localhost:8080/"
        },
        "id": "-HDfZFc8DXFj",
        "outputId": "6b56c20c-0e68-4954-942b-0375349a813d"
      },
      "outputs": [
        {
          "name": "stdout",
          "output_type": "stream",
          "text": [
            "0.8182223531620626 0.8274161020914713\n"
          ]
        }
      ],
      "source": [
        "print(precision,recall)"
      ]
    }
  ],
  "metadata": {
    "accelerator": "GPU",
    "colab": {
      "collapsed_sections": [],
      "name": "VBL_UNET_Best_2.ipynb",
      "provenance": []
    },
    "kernelspec": {
      "display_name": "Python 3",
      "name": "python3"
    },
    "language_info": {
      "name": "python"
    }
  },
  "nbformat": 4,
  "nbformat_minor": 0
}
